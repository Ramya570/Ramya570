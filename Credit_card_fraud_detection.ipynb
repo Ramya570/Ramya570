{
  "nbformat": 4,
  "nbformat_minor": 0,
  "metadata": {
    "colab": {
      "provenance": [],
      "authorship_tag": "ABX9TyNKTL28VvNsH6BH4Sd0P+/T",
      "include_colab_link": true
    },
    "kernelspec": {
      "name": "python3",
      "display_name": "Python 3"
    },
    "language_info": {
      "name": "python"
    }
  },
  "cells": [
    {
      "cell_type": "markdown",
      "metadata": {
        "id": "view-in-github",
        "colab_type": "text"
      },
      "source": [
        "<a href=\"https://colab.research.google.com/github/Ramya570/Ramya570/blob/main/Credit_card_fraud_detection.ipynb\" target=\"_parent\"><img src=\"https://colab.research.google.com/assets/colab-badge.svg\" alt=\"Open In Colab\"/></a>"
      ]
    },
    {
      "cell_type": "code",
      "execution_count": null,
      "metadata": {
        "colab": {
          "base_uri": "https://localhost:8080/",
          "height": 73
        },
        "id": "OzKNliKNtlHo",
        "outputId": "9b619c04-e0d5-45f9-bb40-7c8dae6b8ddb"
      },
      "outputs": [
        {
          "output_type": "display_data",
          "data": {
            "text/plain": [
              "<IPython.core.display.HTML object>"
            ],
            "text/html": [
              "\n",
              "     <input type=\"file\" id=\"files-b66a0a2d-f5b4-447d-b590-80f5c27c22bb\" name=\"files[]\" multiple disabled\n",
              "        style=\"border:none\" />\n",
              "     <output id=\"result-b66a0a2d-f5b4-447d-b590-80f5c27c22bb\">\n",
              "      Upload widget is only available when the cell has been executed in the\n",
              "      current browser session. Please rerun this cell to enable.\n",
              "      </output>\n",
              "      <script>// Copyright 2017 Google LLC\n",
              "//\n",
              "// Licensed under the Apache License, Version 2.0 (the \"License\");\n",
              "// you may not use this file except in compliance with the License.\n",
              "// You may obtain a copy of the License at\n",
              "//\n",
              "//      http://www.apache.org/licenses/LICENSE-2.0\n",
              "//\n",
              "// Unless required by applicable law or agreed to in writing, software\n",
              "// distributed under the License is distributed on an \"AS IS\" BASIS,\n",
              "// WITHOUT WARRANTIES OR CONDITIONS OF ANY KIND, either express or implied.\n",
              "// See the License for the specific language governing permissions and\n",
              "// limitations under the License.\n",
              "\n",
              "/**\n",
              " * @fileoverview Helpers for google.colab Python module.\n",
              " */\n",
              "(function(scope) {\n",
              "function span(text, styleAttributes = {}) {\n",
              "  const element = document.createElement('span');\n",
              "  element.textContent = text;\n",
              "  for (const key of Object.keys(styleAttributes)) {\n",
              "    element.style[key] = styleAttributes[key];\n",
              "  }\n",
              "  return element;\n",
              "}\n",
              "\n",
              "// Max number of bytes which will be uploaded at a time.\n",
              "const MAX_PAYLOAD_SIZE = 100 * 1024;\n",
              "\n",
              "function _uploadFiles(inputId, outputId) {\n",
              "  const steps = uploadFilesStep(inputId, outputId);\n",
              "  const outputElement = document.getElementById(outputId);\n",
              "  // Cache steps on the outputElement to make it available for the next call\n",
              "  // to uploadFilesContinue from Python.\n",
              "  outputElement.steps = steps;\n",
              "\n",
              "  return _uploadFilesContinue(outputId);\n",
              "}\n",
              "\n",
              "// This is roughly an async generator (not supported in the browser yet),\n",
              "// where there are multiple asynchronous steps and the Python side is going\n",
              "// to poll for completion of each step.\n",
              "// This uses a Promise to block the python side on completion of each step,\n",
              "// then passes the result of the previous step as the input to the next step.\n",
              "function _uploadFilesContinue(outputId) {\n",
              "  const outputElement = document.getElementById(outputId);\n",
              "  const steps = outputElement.steps;\n",
              "\n",
              "  const next = steps.next(outputElement.lastPromiseValue);\n",
              "  return Promise.resolve(next.value.promise).then((value) => {\n",
              "    // Cache the last promise value to make it available to the next\n",
              "    // step of the generator.\n",
              "    outputElement.lastPromiseValue = value;\n",
              "    return next.value.response;\n",
              "  });\n",
              "}\n",
              "\n",
              "/**\n",
              " * Generator function which is called between each async step of the upload\n",
              " * process.\n",
              " * @param {string} inputId Element ID of the input file picker element.\n",
              " * @param {string} outputId Element ID of the output display.\n",
              " * @return {!Iterable<!Object>} Iterable of next steps.\n",
              " */\n",
              "function* uploadFilesStep(inputId, outputId) {\n",
              "  const inputElement = document.getElementById(inputId);\n",
              "  inputElement.disabled = false;\n",
              "\n",
              "  const outputElement = document.getElementById(outputId);\n",
              "  outputElement.innerHTML = '';\n",
              "\n",
              "  const pickedPromise = new Promise((resolve) => {\n",
              "    inputElement.addEventListener('change', (e) => {\n",
              "      resolve(e.target.files);\n",
              "    });\n",
              "  });\n",
              "\n",
              "  const cancel = document.createElement('button');\n",
              "  inputElement.parentElement.appendChild(cancel);\n",
              "  cancel.textContent = 'Cancel upload';\n",
              "  const cancelPromise = new Promise((resolve) => {\n",
              "    cancel.onclick = () => {\n",
              "      resolve(null);\n",
              "    };\n",
              "  });\n",
              "\n",
              "  // Wait for the user to pick the files.\n",
              "  const files = yield {\n",
              "    promise: Promise.race([pickedPromise, cancelPromise]),\n",
              "    response: {\n",
              "      action: 'starting',\n",
              "    }\n",
              "  };\n",
              "\n",
              "  cancel.remove();\n",
              "\n",
              "  // Disable the input element since further picks are not allowed.\n",
              "  inputElement.disabled = true;\n",
              "\n",
              "  if (!files) {\n",
              "    return {\n",
              "      response: {\n",
              "        action: 'complete',\n",
              "      }\n",
              "    };\n",
              "  }\n",
              "\n",
              "  for (const file of files) {\n",
              "    const li = document.createElement('li');\n",
              "    li.append(span(file.name, {fontWeight: 'bold'}));\n",
              "    li.append(span(\n",
              "        `(${file.type || 'n/a'}) - ${file.size} bytes, ` +\n",
              "        `last modified: ${\n",
              "            file.lastModifiedDate ? file.lastModifiedDate.toLocaleDateString() :\n",
              "                                    'n/a'} - `));\n",
              "    const percent = span('0% done');\n",
              "    li.appendChild(percent);\n",
              "\n",
              "    outputElement.appendChild(li);\n",
              "\n",
              "    const fileDataPromise = new Promise((resolve) => {\n",
              "      const reader = new FileReader();\n",
              "      reader.onload = (e) => {\n",
              "        resolve(e.target.result);\n",
              "      };\n",
              "      reader.readAsArrayBuffer(file);\n",
              "    });\n",
              "    // Wait for the data to be ready.\n",
              "    let fileData = yield {\n",
              "      promise: fileDataPromise,\n",
              "      response: {\n",
              "        action: 'continue',\n",
              "      }\n",
              "    };\n",
              "\n",
              "    // Use a chunked sending to avoid message size limits. See b/62115660.\n",
              "    let position = 0;\n",
              "    do {\n",
              "      const length = Math.min(fileData.byteLength - position, MAX_PAYLOAD_SIZE);\n",
              "      const chunk = new Uint8Array(fileData, position, length);\n",
              "      position += length;\n",
              "\n",
              "      const base64 = btoa(String.fromCharCode.apply(null, chunk));\n",
              "      yield {\n",
              "        response: {\n",
              "          action: 'append',\n",
              "          file: file.name,\n",
              "          data: base64,\n",
              "        },\n",
              "      };\n",
              "\n",
              "      let percentDone = fileData.byteLength === 0 ?\n",
              "          100 :\n",
              "          Math.round((position / fileData.byteLength) * 100);\n",
              "      percent.textContent = `${percentDone}% done`;\n",
              "\n",
              "    } while (position < fileData.byteLength);\n",
              "  }\n",
              "\n",
              "  // All done.\n",
              "  yield {\n",
              "    response: {\n",
              "      action: 'complete',\n",
              "    }\n",
              "  };\n",
              "}\n",
              "\n",
              "scope.google = scope.google || {};\n",
              "scope.google.colab = scope.google.colab || {};\n",
              "scope.google.colab._files = {\n",
              "  _uploadFiles,\n",
              "  _uploadFilesContinue,\n",
              "};\n",
              "})(self);\n",
              "</script> "
            ]
          },
          "metadata": {}
        },
        {
          "output_type": "stream",
          "name": "stdout",
          "text": [
            "Saving credit.csv.xlsx to credit.csv.xlsx\n"
          ]
        }
      ],
      "source": [
        "from google.colab import files\n",
        "uploaded=files.upload()"
      ]
    },
    {
      "cell_type": "code",
      "source": [
        "import pandas as pd\n",
        "\n",
        "data = pd.read_excel('credit.csv.xlsx')\n",
        "\n",
        "print(data.head())\n"
      ],
      "metadata": {
        "colab": {
          "base_uri": "https://localhost:8080/"
        },
        "id": "Ta488gXk-Fa0",
        "outputId": "fbfbe7a7-34a6-4123-ad4a-59a30d804e1d"
      },
      "execution_count": null,
      "outputs": [
        {
          "output_type": "stream",
          "name": "stdout",
          "text": [
            "   Time        V1        V2        V3        V4        V5        V6        V7  \\\n",
            "0     0 -1.359807 -0.072781  2.536347  1.378155 -0.338321  0.462388  0.239599   \n",
            "1     0  1.191857  0.266151  0.166480  0.448154  0.060018 -0.082361 -0.078803   \n",
            "2     1 -1.358354 -1.340163  1.773209  0.379780 -0.503198  1.800499  0.791461   \n",
            "3     1 -0.966272 -0.185226  1.792993 -0.863291 -0.010309  1.247203  0.237609   \n",
            "4     2 -1.158233  0.877737  1.548718  0.403034 -0.407193  0.095921  0.592941   \n",
            "\n",
            "         V8        V9  ...       V21       V22       V23       V24       V25  \\\n",
            "0  0.098698  0.363787  ... -0.018307  0.277838 -0.110474  0.066928  0.128539   \n",
            "1  0.085102 -0.255425  ... -0.225775 -0.638672  0.101288 -0.339846  0.167170   \n",
            "2  0.247676 -1.514654  ...  0.247998  0.771679  0.909412 -0.689281 -0.327642   \n",
            "3  0.377436 -1.387024  ... -0.108300  0.005274 -0.190321 -1.175575  0.647376   \n",
            "4 -0.270533  0.817739  ... -0.009431  0.798278 -0.137458  0.141267 -0.206010   \n",
            "\n",
            "        V26       V27       V28  Amount  Class  \n",
            "0 -0.189115  0.133558 -0.021053  149.62      0  \n",
            "1  0.125895 -0.008983  0.014724    2.69      0  \n",
            "2 -0.139097 -0.055353 -0.059752  378.66      0  \n",
            "3 -0.221929  0.062723  0.061458  123.50      0  \n",
            "4  0.502292  0.219422  0.215153   69.99      0  \n",
            "\n",
            "[5 rows x 31 columns]\n"
          ]
        }
      ]
    },
    {
      "cell_type": "code",
      "source": [
        "import pandas as pd\n",
        "print(data.isnull().sum())\n",
        "\n",
        "data = data.dropna()"
      ],
      "metadata": {
        "colab": {
          "base_uri": "https://localhost:8080/"
        },
        "id": "JkPSEV-O_Y-2",
        "outputId": "7f6cd717-0201-405e-c159-8547e541d56b"
      },
      "execution_count": null,
      "outputs": [
        {
          "output_type": "stream",
          "name": "stdout",
          "text": [
            "Time      0\n",
            "V1        0\n",
            "V2        0\n",
            "V3        0\n",
            "V4        0\n",
            "V5        0\n",
            "V6        0\n",
            "V7        0\n",
            "V8        0\n",
            "V9        0\n",
            "V10       0\n",
            "V11       0\n",
            "V12       0\n",
            "V13       0\n",
            "V14       0\n",
            "V15       0\n",
            "V16       0\n",
            "V17       0\n",
            "V18       0\n",
            "V19       0\n",
            "V20       0\n",
            "V21       0\n",
            "V22       0\n",
            "V23       0\n",
            "V24       0\n",
            "V25       0\n",
            "V26       0\n",
            "V27       0\n",
            "V28       0\n",
            "Amount    0\n",
            "Class     0\n",
            "dtype: int64\n"
          ]
        }
      ]
    },
    {
      "cell_type": "code",
      "source": [
        "import numpy as np\n",
        "from sklearn.preprocessing import LabelEncoder\n",
        "\n",
        "data['Normalized_Amount'] = data['Amount'] / data['Amount'].mean()\n",
        "\n",
        "\n",
        "data['Time'] = pd.to_datetime(data['Time'], unit='s')\n",
        "data['Time_Since_Last'] = data['Time'].diff().fillna(pd.Timedelta(seconds=0))\n",
        "\n",
        "\n",
        "data['Transaction_Frequency'] = data['Time'].diff().apply(lambda x: x.total_seconds()).le(86400).sum()\n",
        "\n",
        "\n",
        "if 'Device_Fingerprint' in data.columns:\n",
        "    label_encoder = LabelEncoder()\n",
        "    data['Device_Fingerprint_Encoded'] = label_encoder.fit_transform(data['Device_Fingerprint'])\n",
        "\n",
        "\n",
        "print(data.head())\n"
      ],
      "metadata": {
        "colab": {
          "base_uri": "https://localhost:8080/"
        },
        "id": "hJB3UJmGBXdi",
        "outputId": "0741a36b-3749-4467-99ce-1bcfc908007b"
      },
      "execution_count": null,
      "outputs": [
        {
          "output_type": "stream",
          "name": "stdout",
          "text": [
            "                 Time        V1        V2        V3        V4        V5  \\\n",
            "0 1970-01-01 00:00:00 -1.359807 -0.072781  2.536347  1.378155 -0.338321   \n",
            "1 1970-01-01 00:00:00  1.191857  0.266151  0.166480  0.448154  0.060018   \n",
            "2 1970-01-01 00:00:01 -1.358354 -1.340163  1.773209  0.379780 -0.503198   \n",
            "3 1970-01-01 00:00:01 -0.966272 -0.185226  1.792993 -0.863291 -0.010309   \n",
            "4 1970-01-01 00:00:02 -1.158233  0.877737  1.548718  0.403034 -0.407193   \n",
            "\n",
            "         V6        V7        V8        V9  ...       V25       V26       V27  \\\n",
            "0  0.462388  0.239599  0.098698  0.363787  ...  0.128539 -0.189115  0.133558   \n",
            "1 -0.082361 -0.078803  0.085102 -0.255425  ...  0.167170  0.125895 -0.008983   \n",
            "2  1.800499  0.791461  0.247676 -1.514654  ... -0.327642 -0.139097 -0.055353   \n",
            "3  1.247203  0.237609  0.377436 -1.387024  ...  0.647376 -0.221929  0.062723   \n",
            "4  0.095921  0.592941 -0.270533  0.817739  ... -0.206010  0.502292  0.219422   \n",
            "\n",
            "        V28  Amount  Class  Normalized_Amount  Transaction_Frequency  \\\n",
            "0 -0.021053  149.62      0           1.693499                 284806   \n",
            "1  0.014724    2.69      0           0.030447                 284806   \n",
            "2 -0.059752  378.66      0           4.285927                 284806   \n",
            "3  0.061458  123.50      0           1.397855                 284806   \n",
            "4  0.215153   69.99      0           0.792194                 284806   \n",
            "\n",
            "   Time_Since_Last_Seconds  Time_Since_Last  \n",
            "0                      0.0  0 days 00:00:00  \n",
            "1                      0.0  0 days 00:00:00  \n",
            "2                      1.0  0 days 00:00:01  \n",
            "3                      0.0  0 days 00:00:00  \n",
            "4                      1.0  0 days 00:00:01  \n",
            "\n",
            "[5 rows x 35 columns]\n"
          ]
        }
      ]
    },
    {
      "cell_type": "code",
      "source": [
        "from sklearn.model_selection import train_test_split\n",
        "\n",
        "X = data.drop(columns=['Class', 'Time'])\n",
        "y = data['Class']\n",
        "\n",
        "\n",
        "X_train, X_test, y_train, y_test = train_test_split(X, y, test_size=0.2, random_state=42)\n",
        "\n",
        "print(f\"Training set size: {X_train.shape}\")\n",
        "print(f\"Test set size: {X_test.shape}\")\n"
      ],
      "metadata": {
        "colab": {
          "base_uri": "https://localhost:8080/"
        },
        "id": "RGp4g8PhCcDb",
        "outputId": "d608bfbe-5f5c-4573-c004-15c5b907204a"
      },
      "execution_count": null,
      "outputs": [
        {
          "output_type": "stream",
          "name": "stdout",
          "text": [
            "Training set size: (227845, 33)\n",
            "Test set size: (56962, 33)\n"
          ]
        }
      ]
    },
    {
      "cell_type": "code",
      "source": [
        "from sklearn.preprocessing import StandardScaler\n",
        "\n",
        "scaler = StandardScaler()\n",
        "\n",
        "X_train_scaled = scaler.fit_transform(X_train)\n",
        "X_test_scaled = scaler.transform(X_test)\n",
        "\n",
        "\n",
        "print(X_train_scaled[:5])\n"
      ],
      "metadata": {
        "colab": {
          "base_uri": "https://localhost:8080/"
        },
        "id": "lMgnqZgTCfTr",
        "outputId": "b4588cb5-151b-43c9-d09c-307b5aeb9361"
      },
      "execution_count": null,
      "outputs": [
        {
          "output_type": "stream",
          "name": "stdout",
          "text": [
            "[[ 0.99785119 -0.22962626 -0.20738468  0.23421529 -0.36779128 -0.0640219\n",
            "  -0.50588871  0.03060393  0.95995457 -0.02686352  0.61149957  1.68999033\n",
            "   1.26149805 -0.26397318 -0.36292946  0.34942719 -1.09376318  0.77802759\n",
            "   0.20615616 -0.1625072   0.32483903  1.3366986   0.08456891 -0.45980186\n",
            "  -0.08436785 -0.44894226  0.11248883 -0.14374055 -0.30788875 -0.30788875\n",
            "   0.          0.3747789 ]\n",
            " [-0.205221   -0.37821992  1.02754428 -1.42410102 -0.07838016  0.12636396\n",
            "   0.01356656 -0.3375587   0.03591349  0.56353152 -1.90538969 -0.72394599\n",
            "   1.06569947 -1.24378077  0.69040336 -0.18326043 -1.91526546  2.51448298\n",
            "  -2.07894444 -0.60819501 -0.2097972   0.58308608  0.18062005 -1.65808442\n",
            "  -2.25335207  0.7505885  -0.92189789 -0.43984143 -0.1670264  -0.1670264\n",
            "   0.          0.3747789 ]\n",
            " [ 0.03655821  0.49556347 -0.37003324 -0.50036261  0.77785588 -0.26841443\n",
            "   0.63270968  0.09898619 -0.12048361 -0.58617635  0.51056685 -0.07124077\n",
            "  -1.01293822 -0.6673091  -0.8774263   0.77213325  0.05138277  0.6232037\n",
            "   0.24396219  0.01528258 -0.42976698 -1.20189216  0.13269977  0.24510167\n",
            "  -0.82504842  0.2484881   0.51372993  0.21235767 -0.30004345 -0.30004345\n",
            "   0.          0.3747789 ]\n",
            " [-0.27368236  0.61268363  1.15652064  1.95702065  0.35966373  0.75021137\n",
            "   0.68099705 -0.06809416  0.3376771   0.51704057 -0.83830172 -4.17104041\n",
            "   0.28812499  1.32497252 -1.10685789  1.66166539 -0.72084178  0.97284791\n",
            "  -2.63689795 -0.32834745  0.08641581  0.61304293 -0.11629441  0.74062846\n",
            "  -1.25387048 -0.37485659 -0.23140028 -0.19767628  0.11359997  0.11359997\n",
            "   0.          4.18396596]\n",
            " [-2.05677659  1.14557296 -0.28316543 -0.01985595 -0.61740281 -0.3589117\n",
            "  -0.35120626  1.10558556  0.48752418  1.12546684  0.46228245  1.59458794\n",
            "   0.78111182  0.1956128  -1.16039419  0.16260039  0.00843909 -0.06619441\n",
            "   0.87508112 -0.01642973 -0.65642505 -0.31593945  0.39952418  0.1100283\n",
            "   0.90417637  0.50892484  0.71409007 -0.97924    -0.24602857 -0.24602857\n",
            "   0.          0.3747789 ]]\n"
          ]
        }
      ]
    },
    {
      "cell_type": "code",
      "source": [
        "from sklearn.linear_model import LogisticRegression\n",
        "from sklearn.metrics import classification_report, confusion_matrix, accuracy_score\n",
        "\n",
        "model = LogisticRegression(random_state=42)\n",
        "\n",
        "model.fit(X_train_scaled, y_train)\n",
        "\n",
        "y_pred = model.predict(X_test_scaled)\n",
        "\n",
        "print(\"Accuracy:\", accuracy_score(y_test, y_pred))\n",
        "print(\"Confusion Matrix:\\n\", confusion_matrix(y_test, y_pred))\n",
        "print(\"Classification Report:\\n\", classification_report(y_test, y_pred))\n"
      ],
      "metadata": {
        "colab": {
          "base_uri": "https://localhost:8080/"
        },
        "id": "bEO8qdzUCigB",
        "outputId": "272e6854-59e6-48fb-f914-2e2e78a50bf5"
      },
      "execution_count": null,
      "outputs": [
        {
          "output_type": "stream",
          "name": "stdout",
          "text": [
            "Accuracy: 0.9990695551420246\n",
            "Confusion Matrix:\n",
            " [[56853    11]\n",
            " [   42    56]]\n",
            "Classification Report:\n",
            "               precision    recall  f1-score   support\n",
            "\n",
            "           0       1.00      1.00      1.00     56864\n",
            "           1       0.84      0.57      0.68        98\n",
            "\n",
            "    accuracy                           1.00     56962\n",
            "   macro avg       0.92      0.79      0.84     56962\n",
            "weighted avg       1.00      1.00      1.00     56962\n",
            "\n"
          ]
        }
      ]
    },
    {
      "cell_type": "code",
      "source": [
        "\n",
        "print(data.columns)\n"
      ],
      "metadata": {
        "colab": {
          "base_uri": "https://localhost:8080/"
        },
        "id": "xM271NtPDsBF",
        "outputId": "fc876a98-eb63-43a6-a5ac-426efe72986c"
      },
      "execution_count": null,
      "outputs": [
        {
          "output_type": "stream",
          "name": "stdout",
          "text": [
            "Index(['Time', 'V1', 'V2', 'V3', 'V4', 'V5', 'V6', 'V7', 'V8', 'V9', 'V10',\n",
            "       'V11', 'V12', 'V13', 'V14', 'V15', 'V16', 'V17', 'V18', 'V19', 'V20',\n",
            "       'V21', 'V22', 'V23', 'V24', 'V25', 'V26', 'V27', 'V28', 'Amount',\n",
            "       'Class', 'Normalized_Amount', 'Transaction_Frequency',\n",
            "       'Time_Since_Last_Seconds', 'Time_Since_Last'],\n",
            "      dtype='object')\n"
          ]
        }
      ]
    },
    {
      "cell_type": "code",
      "source": [
        "\n",
        "X = data[['V1', 'V2', 'V3', 'V4', 'V5', 'V6', 'V7', 'V8', 'V9', 'V10',\n",
        "          'V11', 'V12', 'V13', 'V14', 'V15', 'V16', 'V17', 'V18', 'V19', 'V20',\n",
        "          'V21', 'V22', 'V23', 'V24', 'V25', 'V26', 'V27', 'V28', 'Amount',\n",
        "          'Normalized_Amount', 'Transaction_Frequency', 'Time_Since_Last_Seconds']]\n",
        "y = data['Class']\n",
        "\n"
      ],
      "metadata": {
        "id": "Mai1CTc9DzeM"
      },
      "execution_count": null,
      "outputs": []
    },
    {
      "cell_type": "code",
      "source": [
        "print(data[['Time', 'Time_Since_Last_Seconds']].head())\n"
      ],
      "metadata": {
        "colab": {
          "base_uri": "https://localhost:8080/"
        },
        "id": "-_Kn45mqD29g",
        "outputId": "fe1fadaf-0a31-4bda-ce06-cb1a9a0034a1"
      },
      "execution_count": null,
      "outputs": [
        {
          "output_type": "stream",
          "name": "stdout",
          "text": [
            "                 Time  Time_Since_Last_Seconds\n",
            "0 1970-01-01 00:00:00                      0.0\n",
            "1 1970-01-01 00:00:00                      0.0\n",
            "2 1970-01-01 00:00:01                      1.0\n",
            "3 1970-01-01 00:00:01                      0.0\n",
            "4 1970-01-01 00:00:02                      1.0\n"
          ]
        }
      ]
    },
    {
      "cell_type": "code",
      "source": [
        "X = data[['V1', 'V2', 'V3', 'V4', 'V5', 'V6', 'V7', 'V8', 'V9', 'V10',\n",
        "          'V11', 'V12', 'V13', 'V14', 'V15', 'V16', 'V17', 'V18', 'V19', 'V20',\n",
        "          'V21', 'V22', 'V23', 'V24', 'V25', 'V26', 'V27', 'V28', 'Amount',\n",
        "          'Normalized_Amount', 'Transaction_Frequency', 'Time_Since_Last_Seconds']]\n",
        "y = data['Class']\n"
      ],
      "metadata": {
        "id": "1vhJTY1wD808"
      },
      "execution_count": null,
      "outputs": []
    },
    {
      "cell_type": "code",
      "source": [
        "from sklearn.model_selection import train_test_split\n",
        "\n",
        "X_train, X_test, y_train, y_test = train_test_split(X, y, test_size=0.2, random_state=42)\n"
      ],
      "metadata": {
        "id": "V8vYN2RXEAme"
      },
      "execution_count": null,
      "outputs": []
    },
    {
      "cell_type": "code",
      "source": [
        "import warnings\n",
        "warnings.filterwarnings('ignore', category=FutureWarning)\n"
      ],
      "metadata": {
        "id": "WGH96cYdEOr_"
      },
      "execution_count": null,
      "outputs": []
    },
    {
      "cell_type": "code",
      "source": [
        "from sklearn.metrics import confusion_matrix, classification_report\n",
        "\n",
        "print(confusion_matrix(y_test, y_pred))\n",
        "\n",
        "print(classification_report(y_test, y_pred))\n"
      ],
      "metadata": {
        "colab": {
          "base_uri": "https://localhost:8080/"
        },
        "id": "ahdByjCMEURB",
        "outputId": "f40f5f7b-66cb-45bd-fc97-eab260ac0048"
      },
      "execution_count": null,
      "outputs": [
        {
          "output_type": "stream",
          "name": "stdout",
          "text": [
            "[[56853    11]\n",
            " [   42    56]]\n",
            "              precision    recall  f1-score   support\n",
            "\n",
            "           0       1.00      1.00      1.00     56864\n",
            "           1       0.84      0.57      0.68        98\n",
            "\n",
            "    accuracy                           1.00     56962\n",
            "   macro avg       0.92      0.79      0.84     56962\n",
            "weighted avg       1.00      1.00      1.00     56962\n",
            "\n"
          ]
        }
      ]
    },
    {
      "cell_type": "code",
      "source": [
        "\n",
        "for i in range(5):\n",
        "    print(f\"Transaction {i+1}: Predicted as {y_pred_labels[i]}\")\n"
      ],
      "metadata": {
        "colab": {
          "base_uri": "https://localhost:8080/"
        },
        "id": "KemmnljfFTag",
        "outputId": "8a87493c-c9e1-418e-b5a4-507d948d0fa9"
      },
      "execution_count": null,
      "outputs": [
        {
          "output_type": "stream",
          "name": "stdout",
          "text": [
            "Transaction 1: Predicted as Fraud\n",
            "Transaction 2: Predicted as Not Fraud\n",
            "Transaction 3: Predicted as Not Fraud\n",
            "Transaction 4: Predicted as Not Fraud\n",
            "Transaction 5: Predicted as Not Fraud\n"
          ]
        }
      ]
    },
    {
      "cell_type": "code",
      "source": [
        "\n",
        "y_pred = model.predict(X_test_scaled)\n",
        "\n",
        "y_pred_labels = ['Fraud' if label == 1 else 'Not Fraud' for label in y_pred]\n",
        "\n",
        "results = pd.DataFrame({'Actual': y_test, 'Predicted': y_pred_labels})\n",
        "\n",
        "print(results.head())\n",
        "\n",
        "for i in range(5):\n",
        "    print(f\"Transaction {i+1}: Actual = {'Fraud' if y_test.iloc[i] == 1 else 'Not Fraud'}, Predicted = {y_pred_labels[i]}\")\n"
      ],
      "metadata": {
        "colab": {
          "base_uri": "https://localhost:8080/"
        },
        "id": "1INJMrKnFe-u",
        "outputId": "634a593d-0098-4991-d6cd-b010cce24f3d"
      },
      "execution_count": null,
      "outputs": [
        {
          "output_type": "stream",
          "name": "stdout",
          "text": [
            "        Actual  Predicted\n",
            "43428        1      Fraud\n",
            "49906        0  Not Fraud\n",
            "29474        0  Not Fraud\n",
            "276481       0  Not Fraud\n",
            "278846       0  Not Fraud\n",
            "Transaction 1: Actual = Fraud, Predicted = Fraud\n",
            "Transaction 2: Actual = Not Fraud, Predicted = Not Fraud\n",
            "Transaction 3: Actual = Not Fraud, Predicted = Not Fraud\n",
            "Transaction 4: Actual = Not Fraud, Predicted = Not Fraud\n",
            "Transaction 5: Actual = Not Fraud, Predicted = Not Fraud\n"
          ]
        }
      ]
    }
  ]
}